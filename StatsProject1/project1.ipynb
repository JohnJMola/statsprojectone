{
 "cells": [
  {
   "cell_type": "code",
   "execution_count": 17,
   "metadata": {},
   "outputs": [],
   "source": [
    "# Allows us to create Data Frames.\n",
    "import pandas as pd\n",
    "\n",
    "# Stops matplotlib from opening a new window for our plots. \n",
    "%matplotlib inline\n",
    "\n",
    "# Imports plotting functionality.\n",
    "import matplotlib.pyplot as plt\n",
    "\n",
    "# Imports the ability to calculate statistics.\n",
    "import numpy as np"
   ]
  },
  {
   "cell_type": "code",
   "execution_count": 18,
   "metadata": {},
   "outputs": [
    {
     "data": {
      "text/plain": [
       "count     6504\n",
       "unique     194\n",
       "top           \n",
       "freq      1667\n",
       "Name: agew1, dtype: object"
      ]
     },
     "execution_count": 18,
     "metadata": {},
     "output_type": "execute_result"
    }
   ],
   "source": [
    "df = pd.read_csv('add_health_data.csv', index_col=None, encoding='utf-8')\n",
    "\n",
    "df.head(10)\n",
    "\n",
    "df['agew1'].describe()"
   ]
  }
 ],
 "metadata": {
  "kernelspec": {
   "display_name": "Python 3",
   "language": "python",
   "name": "python3"
  },
  "language_info": {
   "codemirror_mode": {
    "name": "ipython",
    "version": 3
   },
   "file_extension": ".py",
   "mimetype": "text/x-python",
   "name": "python",
   "nbconvert_exporter": "python",
   "pygments_lexer": "ipython3",
   "version": "3.12.0"
  }
 },
 "nbformat": 4,
 "nbformat_minor": 2
}
